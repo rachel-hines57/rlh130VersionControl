{
 "cells": [
  {
   "cell_type": "code",
   "execution_count": 12,
   "id": "f840d3bc-9676-4ba9-86da-c2975e041f46",
   "metadata": {},
   "outputs": [
    {
     "name": "stdin",
     "output_type": "stream",
     "text": [
      "enter your age 12\n",
      "what is your name l\n"
     ]
    }
   ],
   "source": [
    "age = int(input(\"enter your age\"))\n",
    "name = input(\"what is your name\")"
   ]
  },
  {
   "cell_type": "code",
   "execution_count": 13,
   "id": "8b8b8a28-8701-4a19-9622-6e6c1334070e",
   "metadata": {},
   "outputs": [
    {
     "name": "stdout",
     "output_type": "stream",
     "text": [
      "12\n",
      "l\n"
     ]
    }
   ],
   "source": [
    "print(age)\n",
    "print(name)"
   ]
  },
  {
   "cell_type": "code",
   "execution_count": null,
   "id": "b08facdd-bffe-4961-921a-47cae2d770f3",
   "metadata": {},
   "outputs": [],
   "source": []
  }
 ],
 "metadata": {
  "kernelspec": {
   "display_name": "Python 3 (ipykernel)",
   "language": "python",
   "name": "python3"
  },
  "language_info": {
   "codemirror_mode": {
    "name": "ipython",
    "version": 3
   },
   "file_extension": ".py",
   "mimetype": "text/x-python",
   "name": "python",
   "nbconvert_exporter": "python",
   "pygments_lexer": "ipython3",
   "version": "3.11.5"
  }
 },
 "nbformat": 4,
 "nbformat_minor": 5
}
