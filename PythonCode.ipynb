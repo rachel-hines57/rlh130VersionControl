{
 "cells": [
  {
   "cell_type": "code",
   "execution_count": 13,
   "id": "f840d3bc-9676-4ba9-86da-c2975e041f46",
   "metadata": {},
   "outputs": [
    {
     "name": "stdin",
     "output_type": "stream",
     "text": [
      "enter your age 13\n",
      "what is your name j\n"
     ]
    },
    {
     "name": "stdout",
     "output_type": "stream",
     "text": [
      "Hi j! You are 13 years old.\n"
     ]
    }
   ],
   "source": [
    "age = int(input(\"enter your age\"))\n",
    "Name = input(\"what is your name\")\n",
    "print(\"Hi \" + Name + \"! You are \" + str(age) + \" years old.\")"
   ]
  },
  {
   "cell_type": "code",
   "execution_count": null,
   "id": "b5d39141-7a06-43c9-b0e9-0d415be679d7",
   "metadata": {},
   "outputs": [],
   "source": []
  }
 ],
 "metadata": {
  "kernelspec": {
   "display_name": "Python 3 (ipykernel)",
   "language": "python",
   "name": "python3"
  },
  "language_info": {
   "codemirror_mode": {
    "name": "ipython",
    "version": 3
   },
   "file_extension": ".py",
   "mimetype": "text/x-python",
   "name": "python",
   "nbconvert_exporter": "python",
   "pygments_lexer": "ipython3",
   "version": "3.11.5"
  }
 },
 "nbformat": 4,
 "nbformat_minor": 5
}
